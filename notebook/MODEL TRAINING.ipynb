{
 "cells": [
  {
   "cell_type": "code",
   "execution_count": 1,
   "metadata": {},
   "outputs": [],
   "source": [
    "# Basic imports \n",
    "\n",
    "import numpy as np\n",
    "import matplotlib.pyplot as plt\n",
    "import pandas as pd\n",
    "import seaborn as sns\n",
    "\n",
    "#model imports\n",
    "\n",
    "from sklearn.metrics import mean_squared_error, r2_score, mean_absolute_error\n",
    "from sklearn.neighbors import KNeighborsRegressor\n",
    "from sklearn.tree import DecisionTreeRegressor\n",
    "from sklearn.ensemble import RandomForestRegressor,AdaBoostRegressor\n",
    "from sklearn.svm import SVR\n",
    "from sklearn.linear_model import LinearRegression, Ridge, Lasso\n",
    "from sklearn.model_selection import train_test_split\n",
    "# from catboost import CatBoostRegressor\n",
    "# from xgboost import XGBRegressor\n",
    "import warnings\n",
    "\n"
   ]
  },
  {
   "cell_type": "code",
   "execution_count": 2,
   "metadata": {},
   "outputs": [],
   "source": [
    "df = pd.read_csv('data/stud.csv')"
   ]
  },
  {
   "cell_type": "code",
   "execution_count": 3,
   "metadata": {},
   "outputs": [
    {
     "data": {
      "text/html": [
       "<div>\n",
       "<style scoped>\n",
       "    .dataframe tbody tr th:only-of-type {\n",
       "        vertical-align: middle;\n",
       "    }\n",
       "\n",
       "    .dataframe tbody tr th {\n",
       "        vertical-align: top;\n",
       "    }\n",
       "\n",
       "    .dataframe thead th {\n",
       "        text-align: right;\n",
       "    }\n",
       "</style>\n",
       "<table border=\"1\" class=\"dataframe\">\n",
       "  <thead>\n",
       "    <tr style=\"text-align: right;\">\n",
       "      <th></th>\n",
       "      <th>gender</th>\n",
       "      <th>race_ethnicity</th>\n",
       "      <th>parental_level_of_education</th>\n",
       "      <th>lunch</th>\n",
       "      <th>test_preparation_course</th>\n",
       "      <th>math_score</th>\n",
       "      <th>reading_score</th>\n",
       "      <th>writing_score</th>\n",
       "    </tr>\n",
       "  </thead>\n",
       "  <tbody>\n",
       "    <tr>\n",
       "      <th>0</th>\n",
       "      <td>female</td>\n",
       "      <td>group B</td>\n",
       "      <td>bachelor's degree</td>\n",
       "      <td>standard</td>\n",
       "      <td>none</td>\n",
       "      <td>72</td>\n",
       "      <td>72</td>\n",
       "      <td>74</td>\n",
       "    </tr>\n",
       "    <tr>\n",
       "      <th>1</th>\n",
       "      <td>female</td>\n",
       "      <td>group C</td>\n",
       "      <td>some college</td>\n",
       "      <td>standard</td>\n",
       "      <td>completed</td>\n",
       "      <td>69</td>\n",
       "      <td>90</td>\n",
       "      <td>88</td>\n",
       "    </tr>\n",
       "    <tr>\n",
       "      <th>2</th>\n",
       "      <td>female</td>\n",
       "      <td>group B</td>\n",
       "      <td>master's degree</td>\n",
       "      <td>standard</td>\n",
       "      <td>none</td>\n",
       "      <td>90</td>\n",
       "      <td>95</td>\n",
       "      <td>93</td>\n",
       "    </tr>\n",
       "    <tr>\n",
       "      <th>3</th>\n",
       "      <td>male</td>\n",
       "      <td>group A</td>\n",
       "      <td>associate's degree</td>\n",
       "      <td>free/reduced</td>\n",
       "      <td>none</td>\n",
       "      <td>47</td>\n",
       "      <td>57</td>\n",
       "      <td>44</td>\n",
       "    </tr>\n",
       "    <tr>\n",
       "      <th>4</th>\n",
       "      <td>male</td>\n",
       "      <td>group C</td>\n",
       "      <td>some college</td>\n",
       "      <td>standard</td>\n",
       "      <td>none</td>\n",
       "      <td>76</td>\n",
       "      <td>78</td>\n",
       "      <td>75</td>\n",
       "    </tr>\n",
       "  </tbody>\n",
       "</table>\n",
       "</div>"
      ],
      "text/plain": [
       "   gender race_ethnicity parental_level_of_education         lunch  \\\n",
       "0  female        group B           bachelor's degree      standard   \n",
       "1  female        group C                some college      standard   \n",
       "2  female        group B             master's degree      standard   \n",
       "3    male        group A          associate's degree  free/reduced   \n",
       "4    male        group C                some college      standard   \n",
       "\n",
       "  test_preparation_course  math_score  reading_score  writing_score  \n",
       "0                    none          72             72             74  \n",
       "1               completed          69             90             88  \n",
       "2                    none          90             95             93  \n",
       "3                    none          47             57             44  \n",
       "4                    none          76             78             75  "
      ]
     },
     "execution_count": 3,
     "metadata": {},
     "output_type": "execute_result"
    }
   ],
   "source": [
    "df.head()"
   ]
  },
  {
   "cell_type": "markdown",
   "metadata": {},
   "source": [
    "### preparing X and Y column"
   ]
  },
  {
   "cell_type": "code",
   "execution_count": 4,
   "metadata": {},
   "outputs": [],
   "source": [
    "X = df.drop('math_score', axis=1)\n",
    "y = df['math_score']"
   ]
  },
  {
   "cell_type": "code",
   "execution_count": 5,
   "metadata": {},
   "outputs": [
    {
     "data": {
      "text/plain": [
       "((1000, 7), (1000,))"
      ]
     },
     "execution_count": 5,
     "metadata": {},
     "output_type": "execute_result"
    }
   ],
   "source": [
    "X.shape, y.shape"
   ]
  },
  {
   "cell_type": "code",
   "execution_count": 6,
   "metadata": {},
   "outputs": [],
   "source": [
    "num_features = X.select_dtypes(include=[np.number]).columns\n",
    "cat_features = X.select_dtypes(include=[object]).columns "
   ]
  },
  {
   "cell_type": "code",
   "execution_count": 7,
   "metadata": {},
   "outputs": [],
   "source": [
    "## Crete column transformer\n",
    "\n",
    "from sklearn.compose import ColumnTransformer\n",
    "from sklearn.pipeline import Pipeline\n",
    "\n",
    "\n",
    "from sklearn.preprocessing import StandardScaler, OneHotEncoder\n",
    "\n",
    "StandardScaler = StandardScaler()\n",
    "OneHotEncoder = OneHotEncoder()\n",
    "\n",
    "preprocessor = ColumnTransformer(\n",
    "    [\n",
    "        ('StanderdScaler', StandardScaler, num_features),\n",
    "        ('Onehotencoder', OneHotEncoder, cat_features)\n",
    "    ]\n",
    "    \n",
    ")"
   ]
  },
  {
   "cell_type": "code",
   "execution_count": 8,
   "metadata": {},
   "outputs": [
    {
     "data": {
      "text/plain": [
       "(1000, 19)"
      ]
     },
     "execution_count": 8,
     "metadata": {},
     "output_type": "execute_result"
    }
   ],
   "source": [
    "X = preprocessor.fit_transform(X)\n",
    "X.shape"
   ]
  },
  {
   "cell_type": "code",
   "execution_count": 9,
   "metadata": {},
   "outputs": [
    {
     "data": {
      "text/plain": [
       "((800, 19), (200, 19), (800,), (200,))"
      ]
     },
     "execution_count": 9,
     "metadata": {},
     "output_type": "execute_result"
    }
   ],
   "source": [
    "X_train,X_test,y_train,y_test =train_test_split(X, y, test_size=0.2, random_state=42)\n",
    "X_train.shape, X_test.shape, y_train.shape, y_test.shape    "
   ]
  },
  {
   "cell_type": "markdown",
   "metadata": {},
   "source": [
    "### Create an Evaluation Function to give all metrices after model training"
   ]
  },
  {
   "cell_type": "code",
   "execution_count": 10,
   "metadata": {},
   "outputs": [],
   "source": [
    "def evaluate_model(true, predicted):\n",
    "    mse = mean_squared_error(true, predicted)\n",
    "    rmse = np.sqrt(mse)\n",
    "    mae = mean_absolute_error(true, predicted)\n",
    "    r2 = r2_score(true, predicted)\n",
    "    \n",
    "    return mse, rmse, mae, r2"
   ]
  },
  {
   "cell_type": "code",
   "execution_count": 11,
   "metadata": {},
   "outputs": [
    {
     "name": "stdout",
     "output_type": "stream",
     "text": [
      "KNN\n",
      "Model performance for tarining set\n",
      "- Root mean squared error:5.713\n",
      "- Mean absolute error:4.518\n",
      " Mean squared error:32.64\n",
      "- R2 Score:0.8552\n",
      "----------------------------------------------------------------------\n",
      "Model performance for testing set\n",
      "- Root mean squared error:7.257\n",
      "- Mean absolute error:5.631\n",
      "- Mean squared error:52.66\n",
      "- R2 Score:0.7836\n",
      "====================\n",
      "\n",
      "\n",
      "DecisionTree\n",
      "Model performance for tarining set\n",
      "- Root mean squared error:0.2795\n",
      "- Mean absolute error:0.01875\n",
      " Mean squared error:0.07812\n",
      "- R2 Score:0.9997\n",
      "----------------------------------------------------------------------\n",
      "Model performance for testing set\n",
      "- Root mean squared error:7.787\n",
      "- Mean absolute error:6.215\n",
      "- Mean squared error:60.65\n",
      "- R2 Score:0.7508\n",
      "====================\n",
      "\n",
      "\n",
      "RandomForest\n",
      "Model performance for tarining set\n",
      "- Root mean squared error:2.305\n",
      "- Mean absolute error:1.84\n",
      " Mean squared error:5.315\n",
      "- R2 Score:0.9764\n",
      "----------------------------------------------------------------------\n",
      "Model performance for testing set\n",
      "- Root mean squared error:5.989\n",
      "- Mean absolute error:4.628\n",
      "- Mean squared error:35.87\n",
      "- R2 Score:0.8526\n",
      "====================\n",
      "\n",
      "\n",
      "AdaBoost\n",
      "Model performance for tarining set\n",
      "- Root mean squared error:5.808\n",
      "- Mean absolute error:4.752\n",
      " Mean squared error:33.73\n",
      "- R2 Score:0.8504\n",
      "----------------------------------------------------------------------\n",
      "Model performance for testing set\n",
      "- Root mean squared error:5.991\n",
      "- Mean absolute error:4.687\n",
      "- Mean squared error:35.89\n",
      "- R2 Score:0.8525\n",
      "====================\n",
      "\n",
      "\n",
      "SVR\n",
      "Model performance for tarining set\n",
      "- Root mean squared error:6.577\n",
      "- Mean absolute error:4.869\n",
      " Mean squared error:43.26\n",
      "- R2 Score:0.8081\n",
      "----------------------------------------------------------------------\n",
      "Model performance for testing set\n",
      "- Root mean squared error:8.127\n",
      "- Mean absolute error:5.402\n",
      "- Mean squared error:66.04\n",
      "- R2 Score:0.7286\n",
      "====================\n",
      "\n",
      "\n",
      "LinearRegression\n",
      "Model performance for tarining set\n",
      "- Root mean squared error:5.323\n",
      "- Mean absolute error:4.267\n",
      " Mean squared error:28.33\n",
      "- R2 Score:0.8743\n",
      "----------------------------------------------------------------------\n",
      "Model performance for testing set\n",
      "- Root mean squared error:5.394\n",
      "- Mean absolute error:4.215\n",
      "- Mean squared error:29.1\n",
      "- R2 Score:0.8804\n",
      "====================\n",
      "\n",
      "\n",
      "Ridge\n",
      "Model performance for tarining set\n",
      "- Root mean squared error:5.323\n",
      "- Mean absolute error:4.265\n",
      " Mean squared error:28.34\n",
      "- R2 Score:0.8743\n",
      "----------------------------------------------------------------------\n",
      "Model performance for testing set\n",
      "- Root mean squared error:5.39\n",
      "- Mean absolute error:4.211\n",
      "- Mean squared error:29.06\n",
      "- R2 Score:0.8806\n",
      "====================\n",
      "\n",
      "\n",
      "Lasso\n",
      "Model performance for tarining set\n",
      "- Root mean squared error:6.594\n",
      "- Mean absolute error:5.206\n",
      " Mean squared error:43.48\n",
      "- R2 Score:0.8071\n",
      "----------------------------------------------------------------------\n",
      "Model performance for testing set\n",
      "- Root mean squared error:6.52\n",
      "- Mean absolute error:5.158\n",
      "- Mean squared error:42.51\n",
      "- R2 Score:0.8253\n",
      "====================\n",
      "\n",
      "\n"
     ]
    }
   ],
   "source": [
    "models ={\n",
    "    'KNN': KNeighborsRegressor(),\n",
    "    'DecisionTree': DecisionTreeRegressor(),\n",
    "    'RandomForest': RandomForestRegressor(),\n",
    "    'AdaBoost': AdaBoostRegressor(),\n",
    "    'SVR': SVR(),\n",
    "    'LinearRegression': LinearRegression(),\n",
    "    'Ridge': Ridge(),\n",
    "    'Lasso': Lasso()\n",
    "}\n",
    "\n",
    "model_list = []\n",
    "r2_list = []\n",
    "\n",
    "for i in range(len(list(models))):\n",
    "    model = list(models.values())[i]\n",
    "    model.fit(X_train, y_train)\n",
    "\n",
    "    # Make Predictions \n",
    "    y_train_pred = model.predict(X_train)\n",
    "    y_test_pred = model.predict(X_test)\n",
    "\n",
    "    # Evaluate the model for training and testing data\n",
    "    mse_train, rmse_train, mae_train, r2_train = evaluate_model(y_train, y_train_pred)\n",
    "    mse_test, rmse_test, mae_test, r2_test = evaluate_model(y_test, y_test_pred)\n",
    "\n",
    "    print(list(models.keys())[i])\n",
    "    model_list.append(list(models.keys())[i])\n",
    "\n",
    "    print(\"Model performance for tarining set\")\n",
    "    print(f\"- Root mean squared error:{rmse_train:.4}\")\n",
    "    print(f\"- Mean absolute error:{mae_train:.4}\")\n",
    "    print(f\" Mean squared error:{mse_train:.4}\")\n",
    "    print(f\"- R2 Score:{r2_train:.4}\")\n",
    "\n",
    "    print(\"----------------------------------------------------------------------\")\n",
    "\n",
    "    print(\"Model performance for testing set\")  \n",
    "    print(f\"- Root mean squared error:{rmse_test:.4}\")  \n",
    "    print(f\"- Mean absolute error:{mae_test:.4}\")\n",
    "    print(f\"- Mean squared error:{mse_test:.4}\")\n",
    "    print(f\"- R2 Score:{r2_test:.4}\")\n",
    "    r2_list.append(r2_test)\n",
    "\n",
    "\n",
    "    print('='*20)\n",
    "    print('\\n')\n"
   ]
  },
  {
   "cell_type": "markdown",
   "metadata": {},
   "source": [
    "### Results"
   ]
  },
  {
   "cell_type": "code",
   "execution_count": 12,
   "metadata": {},
   "outputs": [
    {
     "data": {
      "text/html": [
       "<div>\n",
       "<style scoped>\n",
       "    .dataframe tbody tr th:only-of-type {\n",
       "        vertical-align: middle;\n",
       "    }\n",
       "\n",
       "    .dataframe tbody tr th {\n",
       "        vertical-align: top;\n",
       "    }\n",
       "\n",
       "    .dataframe thead th {\n",
       "        text-align: right;\n",
       "    }\n",
       "</style>\n",
       "<table border=\"1\" class=\"dataframe\">\n",
       "  <thead>\n",
       "    <tr style=\"text-align: right;\">\n",
       "      <th></th>\n",
       "      <th>model</th>\n",
       "      <th>r2_score</th>\n",
       "    </tr>\n",
       "  </thead>\n",
       "  <tbody>\n",
       "    <tr>\n",
       "      <th>6</th>\n",
       "      <td>Ridge</td>\n",
       "      <td>0.880593</td>\n",
       "    </tr>\n",
       "    <tr>\n",
       "      <th>5</th>\n",
       "      <td>LinearRegression</td>\n",
       "      <td>0.880433</td>\n",
       "    </tr>\n",
       "    <tr>\n",
       "      <th>2</th>\n",
       "      <td>RandomForest</td>\n",
       "      <td>0.852577</td>\n",
       "    </tr>\n",
       "    <tr>\n",
       "      <th>3</th>\n",
       "      <td>AdaBoost</td>\n",
       "      <td>0.852491</td>\n",
       "    </tr>\n",
       "    <tr>\n",
       "      <th>7</th>\n",
       "      <td>Lasso</td>\n",
       "      <td>0.825320</td>\n",
       "    </tr>\n",
       "    <tr>\n",
       "      <th>0</th>\n",
       "      <td>KNN</td>\n",
       "      <td>0.783589</td>\n",
       "    </tr>\n",
       "    <tr>\n",
       "      <th>1</th>\n",
       "      <td>DecisionTree</td>\n",
       "      <td>0.750779</td>\n",
       "    </tr>\n",
       "    <tr>\n",
       "      <th>4</th>\n",
       "      <td>SVR</td>\n",
       "      <td>0.728600</td>\n",
       "    </tr>\n",
       "  </tbody>\n",
       "</table>\n",
       "</div>"
      ],
      "text/plain": [
       "              model  r2_score\n",
       "6             Ridge  0.880593\n",
       "5  LinearRegression  0.880433\n",
       "2      RandomForest  0.852577\n",
       "3          AdaBoost  0.852491\n",
       "7             Lasso  0.825320\n",
       "0               KNN  0.783589\n",
       "1      DecisionTree  0.750779\n",
       "4               SVR  0.728600"
      ]
     },
     "execution_count": 12,
     "metadata": {},
     "output_type": "execute_result"
    }
   ],
   "source": [
    "pd.DataFrame({'model': model_list, 'r2_score': r2_list}).sort_values(by='r2_score', ascending=False)"
   ]
  },
  {
   "cell_type": "markdown",
   "metadata": {},
   "source": [
    "### Linear Regression"
   ]
  },
  {
   "cell_type": "code",
   "execution_count": 13,
   "metadata": {},
   "outputs": [
    {
     "name": "stdout",
     "output_type": "stream",
     "text": [
      "R2 Score for Linear Regression: 88.04%\n"
     ]
    }
   ],
   "source": [
    "lin_model = LinearRegression()\n",
    "lin_model.fit(X_train, y_train)\n",
    "lin_test_pred = lin_model.predict(X_test)\n",
    "lin_train_pred = lin_model.predict(X_train)\n",
    "\n",
    "score = r2_score(y_test, lin_test_pred)*100\n",
    "print(f\"R2 Score for Linear Regression: {score:.2f}%\")"
   ]
  },
  {
   "cell_type": "code",
   "execution_count": 14,
   "metadata": {},
   "outputs": [
    {
     "data": {
      "text/plain": [
       "Text(0, 0.5, 'Predictions')"
      ]
     },
     "execution_count": 14,
     "metadata": {},
     "output_type": "execute_result"
    },
    {
     "data": {
      "image/png": "[encoded data removed]",
      "text/plain": [
       "<Figure size 640x480 with 1 Axes>"
      ]
     },
     "metadata": {},
     "output_type": "display_data"
    }
   ],
   "source": [
    "plt.scatter(y_test, lin_test_pred)\n",
    "plt.xlabel('True Values')\n",
    "plt.ylabel('Predictions')"
   ]
  },
  {
   "cell_type": "code",
   "execution_count": null,
   "metadata": {},
   "outputs": [],
   "source": []
  }
 ],
 "metadata": {
  "kernelspec": {
   "display_name": "venv",
   "language": "python",
   "name": "python3"
  },
  "language_info": {
   "codemirror_mode": {
    "name": "ipython",
    "version": 3
   },
   "file_extension": ".py",
   "mimetype": "text/x-python",
   "name": "python",
   "nbconvert_exporter": "python",
   "pygments_lexer": "ipython3",
   "version": "3.12.7"
  }
 },
 "nbformat": 4,
 "nbformat_minor": 2
}
